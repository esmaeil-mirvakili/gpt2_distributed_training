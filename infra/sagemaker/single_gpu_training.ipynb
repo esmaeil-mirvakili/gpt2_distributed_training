{
 "cells": [
  {
   "cell_type": "code",
   "execution_count": null,
   "id": "initial_id",
   "metadata": {
    "collapsed": true
   },
   "outputs": [],
   "source": "!pip install -U sagemaker"
  },
  {
   "metadata": {},
   "cell_type": "code",
   "outputs": [],
   "execution_count": null,
   "source": [
    "import sagemaker\n",
    "from sagemaker import get_execution_role\n",
    "\n",
    "role = get_execution_role()"
   ],
   "id": "1db5efc679ef01f8"
  },
  {
   "metadata": {},
   "cell_type": "code",
   "outputs": [],
   "execution_count": null,
   "source": "role",
   "id": "287e25f1f7f0662f"
  },
  {
   "metadata": {},
   "cell_type": "code",
   "outputs": [],
   "execution_count": null,
   "source": "sagemaker_session = sagemaker.Session()",
   "id": "14ef2cfea584dcea"
  },
  {
   "metadata": {},
   "cell_type": "code",
   "outputs": [],
   "execution_count": null,
   "source": "gpt2_image_uri = ''",
   "id": "5d174a78b71472b6"
  },
  {
   "metadata": {},
   "cell_type": "code",
   "outputs": [],
   "execution_count": null,
   "source": [
    "from sagemaker.pytorch.estimator import PyTorch\n",
    "\n",
    "estimator = PyTorch(\n",
    "    image_uri=gpt2_image_uri,\n",
    "    entry_point='train_single_gpu.py',\n",
    "    source_dir='./gpt2_distributed_training',\n",
    "    role=role,\n",
    "    instance_count=1,\n",
    "    instance_type='ml.g4dn.xlarge',\n",
    "    use_spot_instances= True,\n",
    "    max_wait= 3600,\n",
    "    max_run= 600,\n",
    "    output_path='s3://huggingface-multiclass-classification-uci-new-agg/output/',\n",
    "    hyperparameters={'tf32': ''},\n",
    "    enable_sagemaker_metrics=True\n",
    ")"
   ],
   "id": "b404f627e981a390"
  },
  {
   "metadata": {},
   "cell_type": "code",
   "outputs": [],
   "execution_count": null,
   "source": "estimator.fit()",
   "id": "2fd0043ad8c36056"
  }
 ],
 "metadata": {
  "kernelspec": {
   "display_name": "Python 3",
   "language": "python",
   "name": "python3"
  },
  "language_info": {
   "codemirror_mode": {
    "name": "ipython",
    "version": 2
   },
   "file_extension": ".py",
   "mimetype": "text/x-python",
   "name": "python",
   "nbconvert_exporter": "python",
   "pygments_lexer": "ipython2",
   "version": "2.7.6"
  }
 },
 "nbformat": 4,
 "nbformat_minor": 5
}
