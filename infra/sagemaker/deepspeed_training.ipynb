{
 "cells": [
  {
   "cell_type": "code",
   "execution_count": 27,
   "id": "9d23aa88-55bf-4d9f-9179-9840929dc200",
   "metadata": {
    "execution": {
     "iopub.execute_input": "2025-08-28T20:09:50.886274Z",
     "iopub.status.busy": "2025-08-28T20:09:50.885982Z",
     "iopub.status.idle": "2025-08-28T20:09:52.810447Z",
     "shell.execute_reply": "2025-08-28T20:09:52.809533Z",
     "shell.execute_reply.started": "2025-08-28T20:09:50.886252Z"
    }
   },
   "outputs": [
    {
     "name": "stdout",
     "output_type": "stream",
     "text": [
      "Requirement already satisfied: sagemaker in /opt/conda/lib/python3.12/site-packages (2.251.0)\n",
      "Requirement already satisfied: attrs<26,>=24 in /opt/conda/lib/python3.12/site-packages (from sagemaker) (25.3.0)\n",
      "Requirement already satisfied: boto3<2.0,>=1.39.5 in /opt/conda/lib/python3.12/site-packages (from sagemaker) (1.40.19)\n",
      "Requirement already satisfied: cloudpickle>=2.2.1 in /opt/conda/lib/python3.12/site-packages (from sagemaker) (3.1.1)\n",
      "Requirement already satisfied: docker in /opt/conda/lib/python3.12/site-packages (from sagemaker) (7.1.0)\n",
      "Requirement already satisfied: fastapi in /opt/conda/lib/python3.12/site-packages (from sagemaker) (0.115.12)\n",
      "Requirement already satisfied: google-pasta in /opt/conda/lib/python3.12/site-packages (from sagemaker) (0.2.0)\n",
      "Requirement already satisfied: graphene<4,>=3 in /opt/conda/lib/python3.12/site-packages (from sagemaker) (3.4.3)\n",
      "Requirement already satisfied: importlib-metadata<7.0,>=1.4.0 in /opt/conda/lib/python3.12/site-packages (from sagemaker) (6.10.0)\n",
      "Requirement already satisfied: jsonschema in /opt/conda/lib/python3.12/site-packages (from sagemaker) (4.23.0)\n",
      "Requirement already satisfied: numpy==1.26.4 in /opt/conda/lib/python3.12/site-packages (from sagemaker) (1.26.4)\n",
      "Requirement already satisfied: omegaconf<3,>=2.2 in /opt/conda/lib/python3.12/site-packages (from sagemaker) (2.3.0)\n",
      "Requirement already satisfied: packaging<25,>=23.0 in /opt/conda/lib/python3.12/site-packages (from sagemaker) (24.2)\n",
      "Requirement already satisfied: pandas in /opt/conda/lib/python3.12/site-packages (from sagemaker) (2.2.3)\n",
      "Requirement already satisfied: pathos in /opt/conda/lib/python3.12/site-packages (from sagemaker) (0.3.4)\n",
      "Requirement already satisfied: platformdirs in /opt/conda/lib/python3.12/site-packages (from sagemaker) (4.3.8)\n",
      "Requirement already satisfied: protobuf<6.32,>=3.12 in /opt/conda/lib/python3.12/site-packages (from sagemaker) (5.28.3)\n",
      "Requirement already satisfied: psutil in /opt/conda/lib/python3.12/site-packages (from sagemaker) (5.9.8)\n",
      "Requirement already satisfied: pyyaml>=6.0.1 in /opt/conda/lib/python3.12/site-packages (from sagemaker) (6.0.2)\n",
      "Requirement already satisfied: requests in /opt/conda/lib/python3.12/site-packages (from sagemaker) (2.32.3)\n",
      "Requirement already satisfied: sagemaker-core<2.0.0,>=1.0.17 in /opt/conda/lib/python3.12/site-packages (from sagemaker) (1.0.33)\n",
      "Requirement already satisfied: schema in /opt/conda/lib/python3.12/site-packages (from sagemaker) (0.7.7)\n",
      "Requirement already satisfied: smdebug-rulesconfig==1.0.1 in /opt/conda/lib/python3.12/site-packages (from sagemaker) (1.0.1)\n",
      "Requirement already satisfied: tblib<4,>=1.7.0 in /opt/conda/lib/python3.12/site-packages (from sagemaker) (3.1.0)\n",
      "Requirement already satisfied: tqdm in /opt/conda/lib/python3.12/site-packages (from sagemaker) (4.67.1)\n",
      "Requirement already satisfied: urllib3<3.0.0,>=1.26.8 in /opt/conda/lib/python3.12/site-packages (from sagemaker) (1.26.19)\n",
      "Requirement already satisfied: uvicorn in /opt/conda/lib/python3.12/site-packages (from sagemaker) (0.34.2)\n",
      "Requirement already satisfied: botocore<1.41.0,>=1.40.19 in /opt/conda/lib/python3.12/site-packages (from boto3<2.0,>=1.39.5->sagemaker) (1.40.19)\n",
      "Requirement already satisfied: jmespath<2.0.0,>=0.7.1 in /opt/conda/lib/python3.12/site-packages (from boto3<2.0,>=1.39.5->sagemaker) (1.0.1)\n",
      "Requirement already satisfied: s3transfer<0.14.0,>=0.13.0 in /opt/conda/lib/python3.12/site-packages (from boto3<2.0,>=1.39.5->sagemaker) (0.13.1)\n",
      "Requirement already satisfied: python-dateutil<3.0.0,>=2.1 in /opt/conda/lib/python3.12/site-packages (from botocore<1.41.0,>=1.40.19->boto3<2.0,>=1.39.5->sagemaker) (2.9.0.post0)\n",
      "Requirement already satisfied: graphql-core<3.3,>=3.1 in /opt/conda/lib/python3.12/site-packages (from graphene<4,>=3->sagemaker) (3.2.6)\n",
      "Requirement already satisfied: graphql-relay<3.3,>=3.1 in /opt/conda/lib/python3.12/site-packages (from graphene<4,>=3->sagemaker) (3.2.0)\n",
      "Requirement already satisfied: typing-extensions<5,>=4.7.1 in /opt/conda/lib/python3.12/site-packages (from graphene<4,>=3->sagemaker) (4.13.2)\n",
      "Requirement already satisfied: zipp>=0.5 in /opt/conda/lib/python3.12/site-packages (from importlib-metadata<7.0,>=1.4.0->sagemaker) (3.21.0)\n",
      "Requirement already satisfied: antlr4-python3-runtime==4.9.* in /opt/conda/lib/python3.12/site-packages (from omegaconf<3,>=2.2->sagemaker) (4.9.3)\n",
      "Requirement already satisfied: six>=1.5 in /opt/conda/lib/python3.12/site-packages (from python-dateutil<3.0.0,>=2.1->botocore<1.41.0,>=1.40.19->boto3<2.0,>=1.39.5->sagemaker) (1.17.0)\n",
      "Requirement already satisfied: pydantic<3.0.0,>=2.0.0 in /opt/conda/lib/python3.12/site-packages (from sagemaker-core<2.0.0,>=1.0.17->sagemaker) (2.11.4)\n",
      "Requirement already satisfied: rich<15.0.0,>=14.0.0 in /opt/conda/lib/python3.12/site-packages (from sagemaker-core<2.0.0,>=1.0.17->sagemaker) (14.0.0)\n",
      "Requirement already satisfied: mock<5.0,>4.0 in /opt/conda/lib/python3.12/site-packages (from sagemaker-core<2.0.0,>=1.0.17->sagemaker) (4.0.3)\n",
      "Requirement already satisfied: jsonschema-specifications>=2023.03.6 in /opt/conda/lib/python3.12/site-packages (from jsonschema->sagemaker) (2025.4.1)\n",
      "Requirement already satisfied: referencing>=0.28.4 in /opt/conda/lib/python3.12/site-packages (from jsonschema->sagemaker) (0.36.2)\n",
      "Requirement already satisfied: rpds-py>=0.7.1 in /opt/conda/lib/python3.12/site-packages (from jsonschema->sagemaker) (0.24.0)\n",
      "Requirement already satisfied: annotated-types>=0.6.0 in /opt/conda/lib/python3.12/site-packages (from pydantic<3.0.0,>=2.0.0->sagemaker-core<2.0.0,>=1.0.17->sagemaker) (0.7.0)\n",
      "Requirement already satisfied: pydantic-core==2.33.2 in /opt/conda/lib/python3.12/site-packages (from pydantic<3.0.0,>=2.0.0->sagemaker-core<2.0.0,>=1.0.17->sagemaker) (2.33.2)\n",
      "Requirement already satisfied: typing-inspection>=0.4.0 in /opt/conda/lib/python3.12/site-packages (from pydantic<3.0.0,>=2.0.0->sagemaker-core<2.0.0,>=1.0.17->sagemaker) (0.4.0)\n",
      "Requirement already satisfied: markdown-it-py>=2.2.0 in /opt/conda/lib/python3.12/site-packages (from rich<15.0.0,>=14.0.0->sagemaker-core<2.0.0,>=1.0.17->sagemaker) (3.0.0)\n",
      "Requirement already satisfied: pygments<3.0.0,>=2.13.0 in /opt/conda/lib/python3.12/site-packages (from rich<15.0.0,>=14.0.0->sagemaker-core<2.0.0,>=1.0.17->sagemaker) (2.19.1)\n",
      "Requirement already satisfied: mdurl~=0.1 in /opt/conda/lib/python3.12/site-packages (from markdown-it-py>=2.2.0->rich<15.0.0,>=14.0.0->sagemaker-core<2.0.0,>=1.0.17->sagemaker) (0.1.2)\n",
      "Requirement already satisfied: charset_normalizer<4,>=2 in /opt/conda/lib/python3.12/site-packages (from requests->sagemaker) (3.4.2)\n",
      "Requirement already satisfied: idna<4,>=2.5 in /opt/conda/lib/python3.12/site-packages (from requests->sagemaker) (3.10)\n",
      "Requirement already satisfied: certifi>=2017.4.17 in /opt/conda/lib/python3.12/site-packages (from requests->sagemaker) (2025.4.26)\n",
      "Requirement already satisfied: starlette<0.47.0,>=0.40.0 in /opt/conda/lib/python3.12/site-packages (from fastapi->sagemaker) (0.46.2)\n",
      "Requirement already satisfied: anyio<5,>=3.6.2 in /opt/conda/lib/python3.12/site-packages (from starlette<0.47.0,>=0.40.0->fastapi->sagemaker) (4.9.0)\n",
      "Requirement already satisfied: sniffio>=1.1 in /opt/conda/lib/python3.12/site-packages (from anyio<5,>=3.6.2->starlette<0.47.0,>=0.40.0->fastapi->sagemaker) (1.3.1)\n",
      "Requirement already satisfied: pytz>=2020.1 in /opt/conda/lib/python3.12/site-packages (from pandas->sagemaker) (2024.2)\n",
      "Requirement already satisfied: tzdata>=2022.7 in /opt/conda/lib/python3.12/site-packages (from pandas->sagemaker) (2025.2)\n",
      "Requirement already satisfied: ppft>=1.7.7 in /opt/conda/lib/python3.12/site-packages (from pathos->sagemaker) (1.7.7)\n",
      "Requirement already satisfied: dill>=0.4.0 in /opt/conda/lib/python3.12/site-packages (from pathos->sagemaker) (0.4.0)\n",
      "Requirement already satisfied: pox>=0.3.6 in /opt/conda/lib/python3.12/site-packages (from pathos->sagemaker) (0.3.6)\n",
      "Requirement already satisfied: multiprocess>=0.70.18 in /opt/conda/lib/python3.12/site-packages (from pathos->sagemaker) (0.70.18)\n",
      "Requirement already satisfied: click>=7.0 in /opt/conda/lib/python3.12/site-packages (from uvicorn->sagemaker) (8.1.8)\n",
      "Requirement already satisfied: h11>=0.8 in /opt/conda/lib/python3.12/site-packages (from uvicorn->sagemaker) (0.16.0)\n"
     ]
    }
   ],
   "source": [
    "!pip install -U sagemaker"
   ]
  },
  {
   "cell_type": "code",
   "execution_count": 28,
   "id": "dba07428-4e91-455c-969d-fab38a7c94d6",
   "metadata": {
    "execution": {
     "iopub.execute_input": "2025-08-28T20:09:52.812246Z",
     "iopub.status.busy": "2025-08-28T20:09:52.811998Z",
     "iopub.status.idle": "2025-08-28T20:09:52.846524Z",
     "shell.execute_reply": "2025-08-28T20:09:52.845838Z",
     "shell.execute_reply.started": "2025-08-28T20:09:52.812220Z"
    }
   },
   "outputs": [],
   "source": [
    "import sagemaker\n",
    "from sagemaker import get_execution_role\n",
    "\n",
    "role = get_execution_role()"
   ]
  },
  {
   "cell_type": "code",
   "execution_count": 29,
   "id": "cbd97c2b-d2c1-49e6-95d3-6200d2ddd357",
   "metadata": {
    "execution": {
     "iopub.execute_input": "2025-08-28T20:09:52.847925Z",
     "iopub.status.busy": "2025-08-28T20:09:52.847503Z",
     "iopub.status.idle": "2025-08-28T20:09:52.851405Z",
     "shell.execute_reply": "2025-08-28T20:09:52.850737Z",
     "shell.execute_reply.started": "2025-08-28T20:09:52.847895Z"
    }
   },
   "outputs": [],
   "source": [
    "region = 'us-east-1'"
   ]
  },
  {
   "cell_type": "code",
   "execution_count": 30,
   "id": "c5fd2f78-fcfd-4545-adb4-5364f3fef60a",
   "metadata": {
    "execution": {
     "iopub.execute_input": "2025-08-28T20:09:52.853564Z",
     "iopub.status.busy": "2025-08-28T20:09:52.853342Z",
     "iopub.status.idle": "2025-08-28T20:09:53.463911Z",
     "shell.execute_reply": "2025-08-28T20:09:53.463182Z",
     "shell.execute_reply.started": "2025-08-28T20:09:52.853544Z"
    }
   },
   "outputs": [],
   "source": [
    "import boto3\n",
    "\n",
    "boto_session = boto3.Session(region_name=region)\n",
    "sagemaker_session = sagemaker.Session(boto_session=boto_session)"
   ]
  },
  {
   "cell_type": "code",
   "execution_count": 31,
   "id": "63645cd9-8171-41bd-8d72-cb3e02e9e887",
   "metadata": {
    "execution": {
     "iopub.execute_input": "2025-08-28T20:09:53.466378Z",
     "iopub.status.busy": "2025-08-28T20:09:53.466138Z",
     "iopub.status.idle": "2025-08-28T20:09:53.695598Z",
     "shell.execute_reply": "2025-08-28T20:09:53.694978Z",
     "shell.execute_reply.started": "2025-08-28T20:09:53.466357Z"
    }
   },
   "outputs": [],
   "source": [
    "s3_bucket = sagemaker_session.default_bucket()\n",
    "s3_folder = \"gpt2_deepspeed_training\"\n",
    "dataset_folder = \"datasets\"\n",
    "dataset_name = \"wikitext\"\n",
    "resume = True"
   ]
  },
  {
   "cell_type": "code",
   "execution_count": null,
   "id": "d9cec741-227c-4c1d-9916-be5d323bda39",
   "metadata": {},
   "outputs": [],
   "source": [
    "secrets = boto3.client(\"secretsmanager\")\n",
    "wandb_api_key = secrets.get_secret_value(SecretId=\"wandb_api_key\")[\"SecretString\"]"
   ]
  },
  {
   "cell_type": "code",
   "execution_count": 36,
   "id": "c699c3a5-8cd1-4773-aaa5-bca3e5a42c58",
   "metadata": {
    "execution": {
     "iopub.execute_input": "2025-08-28T20:31:08.665875Z",
     "iopub.status.busy": "2025-08-28T20:31:08.665468Z",
     "iopub.status.idle": "2025-08-28T20:31:08.707420Z",
     "shell.execute_reply": "2025-08-28T20:31:08.706741Z",
     "shell.execute_reply.started": "2025-08-28T20:31:08.665850Z"
    }
   },
   "outputs": [],
   "source": [
    "from sagemaker.pytorch.estimator import PyTorch\n",
    "\n",
    "estimator = PyTorch(\n",
    "    entry_point='main.py',\n",
    "    source_dir='gpt2_distributed_training/',\n",
    "    role=role,\n",
    "    instance_count=2,\n",
    "    instance_type='ml.g5.xlarge',\n",
    "    output_path=f's3://{s3_bucket}/{s3_folder}/sagemaker_output/',\n",
    "    checkpoint_s3_uri=f\"s3://{s3_bucket}/{s3_folder}/outputs\",\n",
    "    checkpoint_local_path=\"/opt/ml/checkpoints\",\n",
    "    dependencies=[\"gpt2_distributed_training/requirements.txt\"],\n",
    "    distribution={\n",
    "        \"torch_distributed\": {\n",
    "            \"enabled\": True,\n",
    "            \"processes_per_host\": 1,     # 1 GPU on each ml.g4dn.xlarge\n",
    "        }\n",
    "    },\n",
    "    environment={\n",
    "        'HYDRA_FULL_ERROR': '1',\n",
    "        \"WANDB_API_KEY\": wandb_api_key,\n",
    "    },\n",
    "    hyperparameters={\n",
    "        \"trainer\": \"deepspeed\",\n",
    "        \"dataset.train_dataset.data_root\": f\"/opt/ml/input/data/{dataset_name}\",\n",
    "        \"dataset.val_dataset.data_root\": f\"/opt/ml/input/data/{dataset_name}\",\n",
    "        \"trainer.resume\": resume,\n",
    "    },\n",
    "    py_version='py311',\n",
    "    framework_version='2.5.1',\n",
    "    # enable_sagemaker_metrics=True,\n",
    ")"
   ]
  },
  {
   "cell_type": "code",
   "execution_count": null,
   "id": "64e8feaa-45a2-40ea-8541-b967fd1c848b",
   "metadata": {},
   "outputs": [],
   "source": [
    "estimator.fit({\n",
    "    'wikitext': f's3://{s3_bucket}/{dataset_folder}/{dataset_name}'\n",
    "})"
   ]
  }
 ],
 "metadata": {
  "kernelspec": {
   "display_name": "Python 3 (ipykernel)",
   "language": "python",
   "name": "python3"
  },
  "language_info": {
   "codemirror_mode": {
    "name": "ipython",
    "version": 3
   },
   "file_extension": ".py",
   "mimetype": "text/x-python",
   "name": "python",
   "nbconvert_exporter": "python",
   "pygments_lexer": "ipython3",
   "version": "3.12.9"
  }
 },
 "nbformat": 4,
 "nbformat_minor": 5
}
