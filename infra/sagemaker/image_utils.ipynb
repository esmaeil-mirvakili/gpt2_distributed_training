{
 "cells": [
  {
   "cell_type": "code",
   "execution_count": null,
   "id": "initial_id",
   "metadata": {
    "collapsed": true
   },
   "outputs": [],
   "source": "import boto3"
  },
  {
   "metadata": {},
   "cell_type": "code",
   "outputs": [],
   "execution_count": null,
   "source": [
    "aws_region = 'us-east-1'\n",
    "repository_name = 'esmaeil_gpt2_image'\n",
    "image_tag = 'latest'"
   ],
   "id": "448984a36a2a0e63"
  },
  {
   "metadata": {},
   "cell_type": "code",
   "outputs": [],
   "execution_count": null,
   "source": [
    "account_id = boto3.client('sts').get_caller_identity()['Account']\n",
    "ecr_client = boto3.client('ecr', region_name=aws_region)"
   ],
   "id": "2ba7e8538d8c3a27"
  },
  {
   "metadata": {},
   "cell_type": "code",
   "outputs": [],
   "execution_count": null,
   "source": [
    "# 1. Create repo (if doesn't exist)\n",
    "# aws ecr create-repository --repository-name my-sagemaker-image\n",
    "\n",
    "try:\n",
    "    ecr_client.create_repository(repositoryName=repository_name)\n",
    "except ecr_client.exceptions.RepositoryAlreadyExistsException:\n",
    "    pass"
   ],
   "id": "2e1ce0950529290b"
  },
  {
   "metadata": {},
   "cell_type": "code",
   "outputs": [],
   "execution_count": null,
   "source": [
    "# 2. Get login command\n",
    "# aws ecr get-login-password --region us-west-2\n",
    "auth_token = ecr_client.get_authorization_token()\n",
    "username, password = auth_token['authorizationData'][0]['authorizationToken'].split(':')\n",
    "ecr_url = auth_token['authorizationData'][0]['proxyEndpoint']"
   ],
   "id": "48269e4b53fa6a3a"
  },
  {
   "metadata": {},
   "cell_type": "code",
   "outputs": [],
   "execution_count": null,
   "source": [
    "# 3. Login to Docker\n",
    "!docker login --u AWS --p {password} {ecr_url}\n"
   ],
   "id": "760ad1caf8e4816b"
  },
  {
   "metadata": {},
   "cell_type": "code",
   "outputs": [],
   "execution_count": null,
   "source": [
    "# 4. Build Docker image\n",
    "image_uri = f'{account_id}.dkr.ecr.{aws_region}.amazonaws.com/{repository_name}:{image_tag}'\n",
    "!docker build -t {repository_name} .\n",
    "!docker tag {repository_name} {image_uri}"
   ],
   "id": "33120455f8e42369"
  },
  {
   "metadata": {},
   "cell_type": "code",
   "outputs": [],
   "execution_count": null,
   "source": [
    "# 5. Push to ECR\n",
    "!docker push {image_uri}"
   ],
   "id": "7a870d7cdfcbb371"
  },
  {
   "metadata": {},
   "cell_type": "code",
   "outputs": [],
   "execution_count": null,
   "source": [
    "# 6. Ready to use `image_uri` in SageMaker Estimator\n",
    "print(f'Docker image pushed to: {image_uri}')"
   ],
   "id": "1f4aadc4fbf101fc"
  }
 ],
 "metadata": {
  "kernelspec": {
   "display_name": "Python 3",
   "language": "python",
   "name": "python3"
  },
  "language_info": {
   "codemirror_mode": {
    "name": "ipython",
    "version": 2
   },
   "file_extension": ".py",
   "mimetype": "text/x-python",
   "name": "python",
   "nbconvert_exporter": "python",
   "pygments_lexer": "ipython2",
   "version": "2.7.6"
  }
 },
 "nbformat": 4,
 "nbformat_minor": 5
}
